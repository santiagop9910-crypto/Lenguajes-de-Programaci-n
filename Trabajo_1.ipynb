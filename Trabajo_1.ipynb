{
  "nbformat": 4,
  "nbformat_minor": 0,
  "metadata": {
    "colab": {
      "provenance": []
    },
    "kernelspec": {
      "name": "python3",
      "display_name": "Python 3"
    },
    "language_info": {
      "name": "python"
    }
  },
  "cells": [
    {
      "cell_type": "markdown",
      "source": [
        "# **Valor Presente Neto (VPN)**\n",
        "El valor presente neto o  VPN es una herramienta que permite determinar el valor actual de los flujos de caja futuros estimados en un proyecto, descontando una tasa que representa costos financieros, impuestos, entre otros conceptos, permitiendo traer al tiempo presente el valor neto de cada flujo proyectado para poder evaluar su rentabilidad al compararse con la inversión inicial.\n",
        "\n",
        "El valor presente neto se calcula como la diferencia entre el valor actual de los flujos de efectivo futuros esperados de una inversión y el costo inicial de la inversión. Es decir, el VPN permite conocer si el valor actual de los ingresos generados por un proyecto supera el costo actual de su ejecución.\n",
        "\n",
        "##**Formula Del Valor Presente Neto (VPN)**\n",
        "La fórmula para calcular el valor presente (VPN) es la siguiente:\n",
        "\n",
        "\\[$$VPN = \\sum_{t=0}^{n} \\frac{C_t}{(1+r)^t} - C_0$$\\]\n",
        "\n",
        "Donde:\n",
        "\n",
        "- \\(C_t\\) es el flujo de caja en el tiempo \\(t\\).\n",
        "- \\(r\\) es la tasa de descuento.\n",
        "- \\(n\\) es el número total de periodos.\n",
        "- \\(C_0\\) es la inversión inicial.\n",
        "\n",
        "## **Interpretación**\n",
        "\n",
        "- Si \\(VPN > 0\\), la inversión es rentable.\n",
        "- Si \\(VPN < 0\\), la inversión no es rentable.\n",
        "- Si \\(VPN = 0\\), la inversión no genera ni pérdidas ni ganancias.\n",
        "\n",
        "## **Enlace útil**\n",
        "\n",
        "Para obtener más información sobre el Valor Presente Neto, puedes consultar el siguiente\n",
        "[enlace](https://www.gerencie.com/valor-presente-neto.html)."
      ],
      "metadata": {
        "id": "3_2Mz_iPXlhZ"
      }
    },
    {
      "cell_type": "markdown",
      "source": [
        "#**Descripción del proyecto**\n",
        "\n",
        "Supongamos que la empresa está considerando un proyecto con una inversión inicial de \\$10,000 y espera recibir flujos de caja de \\$3,000 en cada uno de los próximos tres años. La tasa de descuento es del 5%.\n",
        "\n"
      ],
      "metadata": {
        "id": "bQh1FcBvc6VS"
      }
    },
    {
      "cell_type": "code",
      "source": [
        "inversion_inicial = 10000\n",
        "flujo_ano_1 = 3000\n",
        "flujo_ano_2 = 3000\n",
        "flujo_ano_3 = 3000\n",
        "tasa_descuento = 0.05"
      ],
      "metadata": {
        "id": "4OMp1kxZdeXg"
      },
      "execution_count": 1,
      "outputs": []
    },
    {
      "cell_type": "code",
      "source": [
        "vpn = (flujo_ano_1 / (1 + tasa_descuento)**1) + \\\n",
        "      (flujo_ano_2 / (1 + tasa_descuento)**2) + \\\n",
        "      (flujo_ano_3 / (1 + tasa_descuento)**3) - inversion_inicial\n",
        "\n",
        "print(\"El Valor Presente Neto (VPN) es:\",round(vpn,3))"
      ],
      "metadata": {
        "colab": {
          "base_uri": "https://localhost:8080/"
        },
        "id": "DyyPK2AyeI0R",
        "outputId": "b5534863-6055-44a1-ebd5-41ff34d8d484"
      },
      "execution_count": 4,
      "outputs": [
        {
          "output_type": "stream",
          "name": "stdout",
          "text": [
            "El Valor Presente Neto (VPN) es: -1830.256\n"
          ]
        }
      ]
    },
    {
      "cell_type": "code",
      "source": [
        "if vpn > 0:\n",
        "    print(\"El proyecto es viable, ya que el VPN es positivo.\")\n",
        "else:\n",
        "    print(\"El proyecto no es viable, ya que el VPN es negativo.\")"
      ],
      "metadata": {
        "colab": {
          "base_uri": "https://localhost:8080/"
        },
        "id": "fzMkiUIjefSJ",
        "outputId": "f438846a-2ed2-4441-d64e-b3d7e3d64f5d"
      },
      "execution_count": 3,
      "outputs": [
        {
          "output_type": "stream",
          "name": "stdout",
          "text": [
            "El proyecto no es viable, ya que el VPN es negativo.\n"
          ]
        }
      ]
    }
  ]
}